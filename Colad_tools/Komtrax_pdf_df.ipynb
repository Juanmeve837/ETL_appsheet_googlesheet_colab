{
  "nbformat": 4,
  "nbformat_minor": 0,
  "metadata": {
    "colab": {
      "provenance": []
    },
    "kernelspec": {
      "name": "python3",
      "display_name": "Python 3"
    },
    "language_info": {
      "name": "python"
    }
  },
  "cells": [
    {
      "cell_type": "code",
      "execution_count": 1,
      "metadata": {
        "id": "ob0uMntMgcj8",
        "colab": {
          "base_uri": "https://localhost:8080/"
        },
        "outputId": "4608e6f0-13b0-4334-f81b-2404a82dfb49"
      },
      "outputs": [
        {
          "output_type": "stream",
          "name": "stdout",
          "text": [
            "\u001b[2K   \u001b[90m━━━━━━━━━━━━━━━━━━━━━━━━━━━━━━━━━━━━━━━━\u001b[0m \u001b[32m12.0/12.0 MB\u001b[0m \u001b[31m52.2 MB/s\u001b[0m eta \u001b[36m0:00:00\u001b[0m\n",
            "\u001b[2K   \u001b[90m━━━━━━━━━━━━━━━━━━━━━━━━━━━━━━━━━━━━━━━━\u001b[0m \u001b[32m496.6/496.6 kB\u001b[0m \u001b[31m2.0 MB/s\u001b[0m eta \u001b[36m0:00:00\u001b[0m\n",
            "\u001b[?25hRequirement already satisfied: openpyxl in /usr/local/lib/python3.11/dist-packages (3.1.5)\n",
            "Requirement already satisfied: et-xmlfile in /usr/local/lib/python3.11/dist-packages (from openpyxl) (2.0.0)\n"
          ]
        }
      ],
      "source": [
        "!pip install -q tabula-py\n",
        "!pip install -q jpype1\n",
        "!pip install --upgrade openpyxl"
      ]
    },
    {
      "cell_type": "code",
      "source": [
        "import tabula\n",
        "import pandas as pd\n",
        "import numpy as np\n",
        "import os\n",
        "import glob\n",
        "from dateutil import parser\n",
        "import warnings\n",
        "\n",
        "warnings.filterwarnings(\"ignore\", category=UserWarning, module=\"openpyxl\")"
      ],
      "metadata": {
        "id": "x9kNxCo0hTeQ"
      },
      "execution_count": 2,
      "outputs": []
    },
    {
      "cell_type": "markdown",
      "source": [
        "### 1. pdf to pd.dataframe using Tabula library"
      ],
      "metadata": {
        "id": "yKKAubwIM1Qt"
      }
    },
    {
      "cell_type": "code",
      "source": [
        "def process_komatsu_pdf(pdf_path, maquina=\"KOM 390-10\"):\n",
        "    # read pdf\n",
        "    dfs = tabula.read_pdf(pdf_path, area=[20,0,760,520], pages=1)\n",
        "    df = dfs[0]\n",
        "\n",
        "    df[df.columns[0]] = df[df.columns[0]].str.replace(\"\", '')\n",
        "    df = (df.drop('Unnamed: 1', axis=1)\n",
        "            .dropna()\n",
        "            .replace({'H': '', 'l/h': '', 'l': ''}, regex=True))\n",
        "    df = df.drop(df.index[0])\n",
        "    df.iloc[:, 0] = df.iloc[:, 0].str[:10]\n",
        "\n",
        "    split_words = df['Informe detallado de funcionamiento mensual'].str.split()\n",
        "    df_split = pd.DataFrame(\n",
        "        split_words.tolist(),\n",
        "        columns=['eli1', 'eli2', \"machine_hours\", 'SMR', 'operating_hours', \"idle_hours\", \"total_fuel\", \"gal_hour\"]\n",
        "    )\n",
        "\n",
        "    # Rename and concatenate\n",
        "    df = df.reset_index(drop=True)\n",
        "    new_names = ['Date', \"eli0\", \"total_fuel_idle\"]\n",
        "    df = df.rename(columns=dict(zip(df.columns, new_names)))\n",
        "    df_f = pd.concat([df, df_split], axis=1)\n",
        "    df_f = (df_f.drop(columns=[\"eli0\",\"eli1\", \"eli2\"])\n",
        "                .drop(df_f.index[-1])\n",
        "                .replace('-', np.nan))\n",
        "\n",
        "\n",
        "    columns_to_convert = [\"machine_hours\", 'SMR', 'operating_hours', \"idle_hours\", \"total_fuel\", \"gal_hour\",\"total_fuel_idle\"]\n",
        "    df_f[columns_to_convert] = df_f[columns_to_convert].astype(float)\n",
        "\n",
        "    # Date format adjustment\n",
        "    df_f['Date'] = df_f['Date'].apply(lambda x: parser.parse(x, dayfirst=True))\n",
        "\n",
        "    # Assign machine name\n",
        "    df_f = df_f.assign(Shovel=maquina)\n",
        "\n",
        "    # Convert fuel from liters to US gallons https://en.wikipedia.org/wiki/Litre\n",
        "    df_f[\"total_fuel\"] = df_f[\"total_fuel\"]/3.785\n",
        "    df_f[\"gal_hour\"] = df_f[\"gal_hour\"]/3.785\n",
        "\n",
        "    # Select final columns\n",
        "    filter = [\"Date\",'operating_hours', \"idle_hours\", \"total_fuel\", \"gal_hour\", \"Shovel\"]\n",
        "    df_f = df_f[filter].copy()\n",
        "\n",
        "    # Set index and sort\n",
        "    df_f = df_f.set_index('Date')\n",
        "    df_f = df_f.sort_index().round(1)\n",
        "\n",
        "    return df_f"
      ],
      "metadata": {
        "id": "cVNEIDCDJTWC"
      },
      "execution_count": 75,
      "outputs": []
    },
    {
      "cell_type": "code",
      "source": [
        "pdf_path = \"/content/komatsu_pdf.pdf\"\n",
        "data_pdf = process_komatsu_pdf(pdf_path)"
      ],
      "metadata": {
        "id": "NoVgOmyVJYOx"
      },
      "execution_count": 76,
      "outputs": []
    },
    {
      "cell_type": "markdown",
      "source": [
        "### 2. xlsx to pd.dataframe using pandas"
      ],
      "metadata": {
        "id": "Am-D5RC6MtYN"
      }
    },
    {
      "cell_type": "code",
      "source": [
        "def procesar_archivos_kom(path_dir, shovel):\n",
        "\n",
        "    df = pd.read_excel(path_dir)[:-1]  # remove the last row\n",
        "    df['Shovel'] = shovel\n",
        "\n",
        "    # Rename columns by position\n",
        "    df.rename(columns={\n",
        "        df.columns[0]: 'Date',\n",
        "        df.columns[1]: 'machine_hours',\n",
        "        df.columns[4]: \"idle_hours\",\n",
        "        df.columns[3]: 'operating_hours',\n",
        "        df.columns[5]: \"total_fuel\",\n",
        "        df.columns[6]: \"gal_hour\"\n",
        "    }, inplace=True)\n",
        "\n",
        "    # Filtrar columnas necesarias\n",
        "    filter = [\"Date\",'operating_hours', \"idle_hours\", \"total_fuel\", \"gal_hour\", \"Shovel\"]\n",
        "    df = df[filter]\n",
        "\n",
        "    # Convert liters to gallons\n",
        "    df[\"total_fuel\"] /= 3.78541\n",
        "    df[\"gal_hour\"] /= 3.78541\n",
        "\n",
        "    # Round values\n",
        "    df = df.round(1)\n",
        "\n",
        "    # Convert and set date index\n",
        "    df['Date'] = pd.to_datetime(df['Date'], format='%d/%m/%Y', errors='coerce')\n",
        "    df.dropna(subset=['Date'], inplace=True)\n",
        "    df.set_index('Date', inplace=True)\n",
        "\n",
        "    return df\n"
      ],
      "metadata": {
        "id": "IeIKx88HUjox"
      },
      "execution_count": 79,
      "outputs": []
    },
    {
      "cell_type": "code",
      "source": [
        "path_dir2 = \"/content/komatsu_excel.xlsx\"\n",
        "data_xlsx = procesar_archivos_kom(path_dir2, \"KOM 390-10\")"
      ],
      "metadata": {
        "id": "eLIu_XLIUnTi"
      },
      "execution_count": 80,
      "outputs": []
    },
    {
      "cell_type": "markdown",
      "source": [
        "### 3. Merge and save in CSV format"
      ],
      "metadata": {
        "id": "JyjS43RINDas"
      }
    },
    {
      "cell_type": "code",
      "source": [
        "combined_df = pd.concat([data_pdf, data_xlsx], ignore_index=False)"
      ],
      "metadata": {
        "id": "6bepYJdoQ16D"
      },
      "execution_count": 81,
      "outputs": []
    },
    {
      "cell_type": "code",
      "source": [
        "combined_df.to_csv(\"Shovels_Komatsu_output.csv\",index=True)"
      ],
      "metadata": {
        "id": "dIFqFCaZWpLl"
      },
      "execution_count": 82,
      "outputs": []
    }
  ]
}