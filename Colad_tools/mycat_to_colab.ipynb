{
  "nbformat": 4,
  "nbformat_minor": 0,
  "metadata": {
    "colab": {
      "provenance": []
    },
    "kernelspec": {
      "name": "python3",
      "display_name": "Python 3"
    },
    "language_info": {
      "name": "python"
    }
  },
  "cells": [
    {
      "cell_type": "code",
      "source": [
        "pip install --upgrade openpyxl"
      ],
      "metadata": {
        "id": "7P1mMP5k9o9J",
        "colab": {
          "base_uri": "https://localhost:8080/"
        },
        "outputId": "7861d25f-b90b-430f-d7af-60fc9dc7a568"
      },
      "execution_count": 33,
      "outputs": [
        {
          "output_type": "stream",
          "name": "stdout",
          "text": [
            "Requirement already satisfied: openpyxl in /usr/local/lib/python3.12/dist-packages (3.1.5)\n",
            "Requirement already satisfied: et-xmlfile in /usr/local/lib/python3.12/dist-packages (from openpyxl) (2.0.0)\n"
          ]
        }
      ]
    },
    {
      "cell_type": "code",
      "source": [
        "import pandas as pd\n",
        "import numpy as np\n",
        "import os\n",
        "import glob\n",
        "import warnings\n",
        "\n",
        "warnings.filterwarnings(\"ignore\", category=UserWarning, module=\"openpyxl\")\n"
      ],
      "metadata": {
        "id": "sk2kv-UeT__z"
      },
      "execution_count": 34,
      "outputs": []
    },
    {
      "cell_type": "markdown",
      "source": [
        "### 1. mycat system to csv using pandas"
      ],
      "metadata": {
        "id": "0icltvXmam2q"
      }
    },
    {
      "cell_type": "code",
      "source": [
        "def procesar_archivos_cat(path_dir, Shovel):\n",
        "\n",
        "    df = pd.read_excel(path_dir)\n",
        "    df['Shovel'] = Shovel\n",
        "\n",
        "    # Rename specific columns\n",
        "    df.rename(columns={\n",
        "        df.columns[5]: 'machine_hours',\n",
        "        df.columns[8]: 'idle_percentage',\n",
        "        df.columns[9]: 'operating_hours',\n",
        "        df.columns[10]: 'total_fuel',\n",
        "        df.columns[11]: 'gal_hour',\n",
        "        df.columns[12]: 'Shovel'\n",
        "    }, inplace=True)\n",
        "\n",
        "    # Filter useful columns\n",
        "    columnas_utiles = ['Fecha','machine_hours','idle_percentage','operating_hours',\n",
        "                       'total_fuel','gal_hour','Shovel']\n",
        "    df = df[columnas_utiles]\n",
        "\n",
        "    # Save raw copy\n",
        "    df_raw= df.copy().set_index('Fecha')\n",
        "\n",
        "    # Clean data\n",
        "    df.dropna(subset=['machine_hours'], inplace=True)\n",
        "    df = df[df['machine_hours'] > 0.5]\n",
        "\n",
        "    df['Fecha'] = pd.to_datetime(df['Fecha'], errors='coerce')\n",
        "    df.dropna(subset=['Fecha'], inplace=True)\n",
        "\n",
        "    # Fill gal_hour\n",
        "    gal_hour_avg = df.groupby('Shovel')['gal_hour'].mean()\n",
        "    df['gal_hour'] = df.apply(\n",
        "        lambda row: gal_hour_avg[row['Shovel']] if pd.isna(row['gal_hour']) else row['gal_hour'], axis=1\n",
        "    )\n",
        "\n",
        "    # Calculate total_fuel if null\n",
        "    df['total_fuel'] = df.apply(\n",
        "        lambda row: row['machine_hours'] * row['gal_hour'] if pd.isna(row['total_fuel']) else row['total_fuel'],\n",
        "        axis=1\n",
        "    )\n",
        "\n",
        "    # Fill idle_percentage and operating_hours\n",
        "    porcentaje_avg = df.groupby('Shovel')[['idle_percentage', 'operating_hours']].mean()\n",
        "    df['idle_percentage'] = df['idle_percentage'].fillna(df['Shovel'].map(porcentaje_avg['idle_percentage']))\n",
        "    df['operating_hours'] = df['operating_hours'].fillna(df['Shovel'].map(porcentaje_avg['operating_hours']))\n",
        "\n",
        "    df.set_index('Fecha', inplace=True)\n",
        "\n",
        "    return df, df_raw\n"
      ],
      "metadata": {
        "id": "73ndKUak80MA"
      },
      "execution_count": 35,
      "outputs": []
    },
    {
      "cell_type": "code",
      "source": [
        "path_dir = \"/content/Caterpillar_excel.xlsx\"\n",
        "df, df_raw = procesar_archivos_cat(path_dir, \"CAT 336-8\")"
      ],
      "metadata": {
        "id": "ghhP8gL6848b"
      },
      "execution_count": 36,
      "outputs": []
    },
    {
      "cell_type": "markdown",
      "source": [
        "### 2. Save in CSV format"
      ],
      "metadata": {
        "id": "4xk93SHSaz58"
      }
    },
    {
      "cell_type": "code",
      "source": [
        "df.to_csv(\"Shovels_CAT_clean_output.csv\",index=True)"
      ],
      "metadata": {
        "id": "fd5xK5ozWGDK"
      },
      "execution_count": 37,
      "outputs": []
    },
    {
      "cell_type": "code",
      "source": [
        "df_raw.to_csv(\"Shovels_CAT_raw_output.csv\",index=True)"
      ],
      "metadata": {
        "id": "2ZHnbGRGWGAz"
      },
      "execution_count": 38,
      "outputs": []
    }
  ]
}